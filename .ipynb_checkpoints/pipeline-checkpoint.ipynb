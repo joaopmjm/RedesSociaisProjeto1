{
 "cells": [
  {
   "cell_type": "markdown",
   "metadata": {},
   "source": [
    "*Pipeline* que é como esperamos que faremos o estudo <br>\n",
    "João Pedro Meirelles <br>\n",
    "Pedro Daher <br>\n",
    "Pedro Vero Fontes <br>\n",
    "Jose Helio <br>\n",
    "<b>Objetivo da entrega, chegar no teste de hipotese, explicar tudo, resumindo, um codigo bem explicado</b>"
   ]
  },
  {
   "cell_type": "markdown",
   "metadata": {},
   "source": [
    "Comeco de tudo, precisamos de uma hipotese bem feita.\n",
    "<h1>Hipotese</h1><br>\n",
    "<h3> Interacao 1</h3><br>\n",
    "Personagem com poderes mais raros, tendem a ser mais populares (aparecer mais em comics).\n",
    "<h3> Interacao 2</h3><br>\n",
    "Poderes mais raros geram um senso maior de importancia, pois são coisas que só ele consegue fazer, assim em certas situacoes onde tal poder eh necessario, menos super-herois poder ser inseridos pois o poder necessario eh mais raro.\n",
    "<h3> Interacao 3</h3><br>\n",
    "Como comics tem sempre um problema, ou vilao a ser derrotado, gera sempre necessidade de inumeros poderes serem utilizados, assim, quanto menos personagens terem os mesmos poderes ou semelhantes, mais vezes o personagem que possui um poder raro precisara ser chamado."
   ]
  },
  {
   "cell_type": "markdown",
   "metadata": {},
   "source": [
    "<h2>Preparacao</h2><br>\n",
    "Pra que consigamos fazer nossa rede, precisamos primeiro montar uma tabla com os dados quantitativos, então os dados de cross over, pegando a tabela com os comics e os personagens dentro dela.<br>\n",
    "Em conjunto com isso precisamos fazer tambem uma tabela apenas com os poderes e contabilizando quais poderes aparecem mais que outros, criando o que eu decrevi como \"Unicos\", que em jargões, seria degree talvez.<br>\n",
    "Com as duas tabelas criadas acima, podemos então montar uma rede entre os personagens que aparecem em comics iguais, e tambem montar uma rede de personagens que aparecem em comics iguais e poderes.<br>\n",
    "<h2>Estudo das redes</h2><br>\n",
    "Na preparacao a gente \"montou\" duas tabelas principais pra montar a rede de nosso interesse, e com essa rede esperamos identificar algumas coisas."
   ]
  },
  {
   "cell_type": "code",
   "execution_count": 1,
   "metadata": {},
   "outputs": [
    {
     "data": {
      "text/html": [
       "        <script type=\"text/javascript\">\n",
       "        window.PlotlyConfig = {MathJaxConfig: 'local'};\n",
       "        if (window.MathJax) {MathJax.Hub.Config({SVG: {font: \"STIX-Web\"}});}\n",
       "        if (typeof require !== 'undefined') {\n",
       "        require.undef(\"plotly\");\n",
       "        requirejs.config({\n",
       "            paths: {\n",
       "                'plotly': ['https://cdn.plot.ly/plotly-latest.min']\n",
       "            }\n",
       "        });\n",
       "        require(['plotly'], function(Plotly) {\n",
       "            window._Plotly = Plotly;\n",
       "        });\n",
       "        }\n",
       "        </script>\n",
       "        "
      ]
     },
     "metadata": {},
     "output_type": "display_data"
    }
   ],
   "source": [
    "import pandas as pd\n",
    "import numpy as np\n",
    "import seaborn as sns\n",
    "import networkx as nx\n",
    "import freeman as fm"
   ]
  },
  {
   "cell_type": "code",
   "execution_count": 2,
   "metadata": {},
   "outputs": [],
   "source": [
    "personagens = pd.read_csv(\"characters.csv\",sep=',')\n",
    "pers_comic = pd.read_csv(\"charactersToComics.csv\",sep=',')\n",
    "comics = pd.read_csv(\"comics.csv\", sep=',')\n",
    "poderes = pd.read_csv(\"superheroes_power_matrix.csv\", sep=',')"
   ]
  },
  {
   "cell_type": "code",
   "execution_count": 21,
   "metadata": {},
   "outputs": [],
   "source": [
    "def load():\n",
    "    g = fm.load('comic_char.gml')\n",
    "\n",
    "    # Remover todas as arestas com peso menor ou igual a 0.5.\n",
    "    # Precisamos de dois loops, pois não é uma boa ideia\n",
    "    # tirar algo de um conjunto enquanto iteramos nele.\n",
    "    removed = []\n",
    "    for n, m in g.edges:\n",
    "        if g.edges[n, m]['weight'] <= 0.5:\n",
    "            removed.append((n, m))\n",
    "    for n, m in removed:\n",
    "        g.remove_edge(n, m)\n",
    "\n",
    "    # Remover todos os nós que ficaram isolados depois da\n",
    "    # remoção das arestas, para melhorar a visualização.\n",
    "#     removed = []\n",
    "#     for n in g.nodes:\n",
    "#         if not g.degree(n):\n",
    "#             removed.append(n)\n",
    "#     for n in removed:\n",
    "#         g.remove_node(n)\n",
    "\n",
    "    return g\n",
    "\n",
    "# def draw(g):\n",
    "#     # Pintar o Brasil de verde.\n",
    "#     #g.nodes['comic']['color'] = (0, 255, 0)\n",
    "\n",
    "#     # Deixar os nós menores e fazer os nomes deles\n",
    "#     # aparecer apenas quando o mouse passa por cima.\n",
    "#     g.set_all_nodes(size=10, labpos='hover')\n",
    "\n",
    "#     # Deixar as arestas semi-transparentes para\n",
    "#     # a visualização ficar um pouco mais leve.\n",
    "# #     g.set_all_edges(color=(0, 0, 0, 0.25))\n",
    "\n",
    "#     # Usar um algoritmo especial para posicionar\n",
    "#     # os nós de acordo com grupos.\n",
    "#     g.move('kamada_kawai')\n",
    "\n",
    "#     g.draw()"
   ]
  },
  {
   "cell_type": "code",
   "execution_count": 20,
   "metadata": {},
   "outputs": [],
   "source": [
    "G = nx.Graph() # Create empty graph\n",
    "for char in personagens.name:\n",
    "    G.add_node(char, tipo=\"character\",color=(0,0,255))\n",
    "\n",
    "for com in comics.title:\n",
    "    G.add_node(char, tipo=\"comic\",color=(255,0,0))\n",
    "\n",
    "#gml = nx.generate_gml(G)\n",
    "nx.write_gml(G,\"comic_char.gml\")\n",
    "#print(\"\\n\".join(nx.generate_gml(G)))\n",
    "g = load()\n",
    "# draw(g)\n"
   ]
  },
  {
   "cell_type": "code",
   "execution_count": 23,
   "metadata": {},
   "outputs": [
    {
     "ename": "TypeError",
     "evalue": "unhashable type: 'list'",
     "output_type": "error",
     "traceback": [
      "\u001b[1;31m---------------------------------------------------------------------------\u001b[0m",
      "\u001b[1;31mTypeError\u001b[0m                                 Traceback (most recent call last)",
      "\u001b[1;32m<ipython-input-23-7c3569262599>\u001b[0m in \u001b[0;36m<module>\u001b[1;34m\u001b[0m\n\u001b[1;32m----> 1\u001b[1;33m \u001b[0mg\u001b[0m\u001b[1;33m.\u001b[0m\u001b[0mdraw\u001b[0m\u001b[1;33m(\u001b[0m\u001b[1;33m)\u001b[0m\u001b[1;33m\u001b[0m\u001b[1;33m\u001b[0m\u001b[0m\n\u001b[0m",
      "\u001b[1;32m~\\Desktop\\Insper\\6Sem\\Redes\\RedesSociaisProjeto1\\freeman\\__init__.py\u001b[0m in \u001b[0;36mdraw\u001b[1;34m(self, toolbar)\u001b[0m\n\u001b[0;32m    348\u001b[0m     \u001b[1;32mdef\u001b[0m \u001b[0mdraw\u001b[0m\u001b[1;33m(\u001b[0m\u001b[0mself\u001b[0m\u001b[1;33m,\u001b[0m \u001b[0mtoolbar\u001b[0m\u001b[1;33m=\u001b[0m\u001b[1;32mFalse\u001b[0m\u001b[1;33m)\u001b[0m\u001b[1;33m:\u001b[0m\u001b[1;33m\u001b[0m\u001b[1;33m\u001b[0m\u001b[0m\n\u001b[0;32m    349\u001b[0m         \u001b[1;34m'''Object-oriented wrapper for :func:`draw <freeman.drawing.draw>`.'''\u001b[0m\u001b[1;33m\u001b[0m\u001b[1;33m\u001b[0m\u001b[0m\n\u001b[1;32m--> 350\u001b[1;33m         \u001b[0mdraw\u001b[0m\u001b[1;33m(\u001b[0m\u001b[0mself\u001b[0m\u001b[1;33m,\u001b[0m \u001b[0mtoolbar\u001b[0m\u001b[1;33m)\u001b[0m\u001b[1;33m\u001b[0m\u001b[1;33m\u001b[0m\u001b[0m\n\u001b[0m\u001b[0;32m    351\u001b[0m \u001b[1;33m\u001b[0m\u001b[0m\n\u001b[0;32m    352\u001b[0m     \u001b[1;32mdef\u001b[0m \u001b[0mextract_nodes\u001b[0m\u001b[1;33m(\u001b[0m\u001b[0mself\u001b[0m\u001b[1;33m,\u001b[0m \u001b[0mmap\u001b[0m\u001b[1;33m)\u001b[0m\u001b[1;33m:\u001b[0m\u001b[1;33m\u001b[0m\u001b[1;33m\u001b[0m\u001b[0m\n",
      "\u001b[1;32m~\\Desktop\\Insper\\6Sem\\Redes\\RedesSociaisProjeto1\\freeman\\drawing.py\u001b[0m in \u001b[0;36mdraw\u001b[1;34m(g, toolbar)\u001b[0m\n\u001b[0;32m    866\u001b[0m         \u001b[0msize\u001b[0m\u001b[1;33m,\u001b[0m \u001b[0mstyle\u001b[0m\u001b[1;33m,\u001b[0m \u001b[0mcolor\u001b[0m\u001b[1;33m,\u001b[0m \u001b[0mbwidth\u001b[0m\u001b[1;33m,\u001b[0m \u001b[0mbcolor\u001b[0m\u001b[1;33m,\u001b[0m \u001b[0mlabpos\u001b[0m \u001b[1;33m=\u001b[0m \u001b[0m_build_node_key\u001b[0m\u001b[1;33m(\u001b[0m\u001b[0mg\u001b[0m\u001b[1;33m,\u001b[0m \u001b[0mn\u001b[0m\u001b[1;33m)\u001b[0m\u001b[1;33m\u001b[0m\u001b[1;33m\u001b[0m\u001b[0m\n\u001b[0;32m    867\u001b[0m         \u001b[0mkey\u001b[0m \u001b[1;33m=\u001b[0m \u001b[1;33m(\u001b[0m\u001b[0msize\u001b[0m\u001b[1;33m,\u001b[0m \u001b[0mstyle\u001b[0m\u001b[1;33m,\u001b[0m \u001b[0mcolor\u001b[0m\u001b[1;33m,\u001b[0m \u001b[0mbwidth\u001b[0m\u001b[1;33m,\u001b[0m \u001b[0mbcolor\u001b[0m\u001b[1;33m,\u001b[0m \u001b[0mlabpos\u001b[0m\u001b[1;33m)\u001b[0m\u001b[1;33m\u001b[0m\u001b[1;33m\u001b[0m\u001b[0m\n\u001b[1;32m--> 868\u001b[1;33m         \u001b[1;32mif\u001b[0m \u001b[0mkey\u001b[0m \u001b[1;32mnot\u001b[0m \u001b[1;32min\u001b[0m \u001b[0mnode_traces\u001b[0m\u001b[1;33m:\u001b[0m\u001b[1;33m\u001b[0m\u001b[1;33m\u001b[0m\u001b[0m\n\u001b[0m\u001b[0;32m    869\u001b[0m             \u001b[0mnode_traces\u001b[0m\u001b[1;33m[\u001b[0m\u001b[0mkey\u001b[0m\u001b[1;33m]\u001b[0m \u001b[1;33m=\u001b[0m \u001b[0m_build_node_trace\u001b[0m\u001b[1;33m(\u001b[0m\u001b[0msize\u001b[0m\u001b[1;33m,\u001b[0m \u001b[0mstyle\u001b[0m\u001b[1;33m,\u001b[0m \u001b[0mcolor\u001b[0m\u001b[1;33m,\u001b[0m \u001b[0mbwidth\u001b[0m\u001b[1;33m,\u001b[0m \u001b[0mbcolor\u001b[0m\u001b[1;33m,\u001b[0m \u001b[0mlabpos\u001b[0m\u001b[1;33m,\u001b[0m \u001b[1;32mFalse\u001b[0m\u001b[1;33m)\u001b[0m\u001b[1;33m\u001b[0m\u001b[1;33m\u001b[0m\u001b[0m\n\u001b[0;32m    870\u001b[0m         \u001b[0mnode_extra_trace\u001b[0m \u001b[1;33m=\u001b[0m \u001b[0mnode_white_trace\u001b[0m \u001b[1;32mif\u001b[0m \u001b[0m_toodark\u001b[0m\u001b[1;33m(\u001b[0m\u001b[0mcolor\u001b[0m\u001b[1;33m)\u001b[0m \u001b[1;32melse\u001b[0m \u001b[0mnode_black_trace\u001b[0m\u001b[1;33m\u001b[0m\u001b[1;33m\u001b[0m\u001b[0m\n",
      "\u001b[1;31mTypeError\u001b[0m: unhashable type: 'list'"
     ]
    }
   ],
   "source": [
    "g.draw()"
   ]
  },
  {
   "cell_type": "code",
   "execution_count": null,
   "metadata": {},
   "outputs": [],
   "source": []
  }
 ],
 "metadata": {
  "kernelspec": {
   "display_name": "Python 3",
   "language": "python",
   "name": "python3"
  },
  "language_info": {
   "codemirror_mode": {
    "name": "ipython",
    "version": 3
   },
   "file_extension": ".py",
   "mimetype": "text/x-python",
   "name": "python",
   "nbconvert_exporter": "python",
   "pygments_lexer": "ipython3",
   "version": "3.8.3"
  }
 },
 "nbformat": 4,
 "nbformat_minor": 4
}
