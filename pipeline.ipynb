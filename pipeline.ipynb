{
 "cells": [
  {
   "cell_type": "markdown",
   "metadata": {},
   "source": [
    "*Pipeline* que é como esperamos que faremos o estudo <br>\n",
    "João Pedro Meirelles <br>\n",
    "Pedro Daher <br>\n",
    "Pedro Vero Fontes <br>\n",
    "Jose Helio <br>\n",
    "<b>Objetivo da entrega, chegar no teste de hipotese, explicar tudo, resumindo, um codigo bem explicado</b>"
   ]
  },
  {
   "cell_type": "markdown",
   "metadata": {},
   "source": [
    "Comeco de tudo, precisamos de uma hipotese bem feita.\n",
    "<h1>Hipotese</h1><br>\n",
    "<h3> Interacao 1</h3><br>\n",
    "Personagem com poderes mais raros, tendem a ser mais populares (aparecer mais em comics).\n",
    "<h3> Interacao 2</h3><br>\n",
    "Poderes mais raros geram um senso maior de importancia, pois são coisas que só ele consegue fazer, assim em certas situacoes onde tal poder eh necessario, menos super-herois poder ser inseridos pois o poder necessario eh mais raro.\n",
    "<h3> Interacao 3</h3><br>\n",
    "Como comics tem sempre um problema, ou vilao a ser derrotado, gera sempre necessidade de inumeros poderes serem utilizados, assim, quanto menos personagens terem os mesmos poderes ou semelhantes, mais vezes o personagem que possui um poder raro precisara ser chamado."
   ]
  },
  {
   "cell_type": "markdown",
   "metadata": {},
   "source": [
    "<h2>Preparacao</h2><br>\n",
    "Pra que consigamos fazer nossa rede, precisamos primeiro montar uma tabla com os dados quantitativos, então os dados de cross over, pegando a tabela com os comics e os personagens dentro dela.<br>\n",
    "Em conjunto com isso precisamos fazer tambem uma tabela apenas com os poderes e contabilizando quais poderes aparecem mais que outros, criando o que eu decrevi como \"Unicos\", que em jargões, seria degree talvez.<br>\n",
    "Com as duas tabelas criadas acima, podemos então montar uma rede entre os personagens que aparecem em comics iguais, e tambem montar uma rede de personagens que aparecem em comics iguais e poderes.<br>\n",
    "<h2>Estudo das redes</h2><br>\n",
    "Na preparacao a gente \"montou\" duas tabelas principais pra montar a rede de nosso interesse, e com essa rede esperamos identificar algumas coisas."
   ]
  },
  {
   "cell_type": "code",
   "execution_count": 1,
   "metadata": {},
   "outputs": [
    {
     "data": {
      "text/html": [
       "        <script type=\"text/javascript\">\n",
       "        window.PlotlyConfig = {MathJaxConfig: 'local'};\n",
       "        if (window.MathJax) {MathJax.Hub.Config({SVG: {font: \"STIX-Web\"}});}\n",
       "        if (typeof require !== 'undefined') {\n",
       "        require.undef(\"plotly\");\n",
       "        requirejs.config({\n",
       "            paths: {\n",
       "                'plotly': ['https://cdn.plot.ly/plotly-latest.min']\n",
       "            }\n",
       "        });\n",
       "        require(['plotly'], function(Plotly) {\n",
       "            window._Plotly = Plotly;\n",
       "        });\n",
       "        }\n",
       "        </script>\n",
       "        "
      ]
     },
     "metadata": {},
     "output_type": "display_data"
    }
   ],
   "source": [
    "import pandas as pd\n",
    "import numpy as np\n",
    "import seaborn as sns\n",
    "import networkx as nx\n",
    "import freeman as fm"
   ]
  },
  {
   "cell_type": "code",
   "execution_count": 9,
   "metadata": {},
   "outputs": [],
   "source": [
    "from csv import reader\n",
    "from unidecode import unidecode\n",
    "\n",
    "personagens = {}\n",
    "edges = []\n",
    "comics = {}\n",
    "poderes = {}\n",
    "\n",
    "with open(\"characters.csv\",encoding=\"utf-8\") as file:\n",
    "    file.readline()\n",
    "    for i, row in enumerate(reader(file), 2):\n",
    "        charId = row[0]\n",
    "        nome = row[1]\n",
    "        personagens[int(charId)] = nome\n",
    "\n",
    "with open(\"comics.csv\",encoding=\"utf-8\") as file:\n",
    "    file.readline()\n",
    "    for i, row in enumerate(reader(file), 2):\n",
    "        comicId = row[0]\n",
    "        title = row[1]\n",
    "        comics[int(comicId)] = title\n",
    "\n",
    "with open(\"charactersToComics.csv\",encoding=\"utf-8\") as file:\n",
    "    file.readline()\n",
    "    for i, row in enumerate(reader(file), 2):\n",
    "        edges.append([row[0],row[1]])"
   ]
  },
  {
   "cell_type": "code",
   "execution_count": 10,
   "metadata": {},
   "outputs": [],
   "source": [
    "with open('charComic.gml','w') as file:\n",
    "    file.write('graph [\\n')\n",
    "    file.write('    directed 1\\n')\n",
    "    \n",
    "    for char in personagens.keys(): # Cria os nodes dos personagens\n",
    "        if '\"' in personagens[char]:\n",
    "            personagens[char] = personagens[char].replace('\"',\" \")\n",
    "        file.write('    node [\\n')\n",
    "        file.write(f'        id {char}\\n')\n",
    "        file.write(f'        name \"{unidecode(personagens[char])}\"\\n')\n",
    "        file.write('        tipo \"character\"\\n')\n",
    "        file.write('    ]\\n')\n",
    "        \n",
    "    for comic in comics.keys(): # Cria os nodes dos comics\n",
    "        if '\"' in comics[comic]:\n",
    "            comics[comic] = comics[comic].replace('\"',\" \")\n",
    "        file.write('    node [\\n')\n",
    "        file.write(f'        id {comic}\\n')\n",
    "        file.write(f'        name \"{unidecode(comics[comic])}\"\\n')\n",
    "        file.write('        tipo \"comic\"\\n')\n",
    "        file.write('    ]\\n')\n",
    "    \n",
    "    for (s, t) in edges:        # Monta as ligacoes entre nodes\n",
    "        file.write('    edge [\\n')\n",
    "        file.write(f'        source {s}\\n')\n",
    "        file.write(f'        target {t}\\n')\n",
    "        file.write('        weight 1\\n')\n",
    "        file.write('    ]\\n')\n",
    "        \n",
    "    file.write(']\\n') # Fecha o graph"
   ]
  },
  {
   "cell_type": "code",
   "execution_count": 11,
   "metadata": {},
   "outputs": [],
   "source": [
    "def load():\n",
    "    g = fm.load('charComic.gml')\n",
    "\n",
    "    # Remover todas as arestas com peso menor ou igual a 0.5.\n",
    "    # Precisamos de dois loops, pois não é uma boa ideia\n",
    "    # tirar algo de um conjunto enquanto iteramos nele.\n",
    "#     removed = []\n",
    "#     for n, m in g.edges:\n",
    "#         if g.edges[n, m]['weight'] <= 0.5:\n",
    "#             removed.append((n, m))\n",
    "#     for n, m in removed:\n",
    "#         g.remove_edge(n, m)\n",
    "\n",
    "    # Remover todos os nós que ficaram isolados depois da\n",
    "    # remoção das arestas, para melhorar a visualização.\n",
    "    removed = []\n",
    "    for n in g.nodes:\n",
    "        if not g.degree(n):\n",
    "            removed.append(n)\n",
    "    for n in removed:\n",
    "        g.remove_node(n)\n",
    "\n",
    "    return g\n",
    "\n",
    "def draw(g):\n",
    "    # Deixar os nós menores e fazer os nomes deles\n",
    "    # aparecer apenas quando o mouse passa por cima.\n",
    "    g.set_all_nodes(size=10, labpos='hover')\n",
    "\n",
    "    # Deixar as arestas semi-transparentes para\n",
    "    # a visualização ficar um pouco mais leve.\n",
    "    g.set_all_edges(color=(0, 0, 0, 0.25))\n",
    "\n",
    "    # Usar um algoritmo especial para posicionar\n",
    "    # os nós de acordo com grupos.\n",
    "    g.move('kamada_kawai')\n",
    "\n",
    "    g.draw()"
   ]
  },
  {
   "cell_type": "code",
   "execution_count": 12,
   "metadata": {},
   "outputs": [
    {
     "ename": "NetworkXError",
     "evalue": "expected an int, float, string or '[', found 'BATTLE' at (8420, 52)",
     "output_type": "error",
     "traceback": [
      "\u001b[1;31m---------------------------------------------------------------------------\u001b[0m",
      "\u001b[1;31mNetworkXError\u001b[0m                             Traceback (most recent call last)",
      "\u001b[1;32m<ipython-input-12-e04535ee99a0>\u001b[0m in \u001b[0;36m<module>\u001b[1;34m\u001b[0m\n\u001b[1;32m----> 1\u001b[1;33m \u001b[0mG\u001b[0m \u001b[1;33m=\u001b[0m \u001b[0mload\u001b[0m\u001b[1;33m(\u001b[0m\u001b[1;33m)\u001b[0m\u001b[1;33m\u001b[0m\u001b[1;33m\u001b[0m\u001b[0m\n\u001b[0m",
      "\u001b[1;32m<ipython-input-11-4e2e318c44ac>\u001b[0m in \u001b[0;36mload\u001b[1;34m()\u001b[0m\n\u001b[0;32m      1\u001b[0m \u001b[1;32mdef\u001b[0m \u001b[0mload\u001b[0m\u001b[1;33m(\u001b[0m\u001b[1;33m)\u001b[0m\u001b[1;33m:\u001b[0m\u001b[1;33m\u001b[0m\u001b[1;33m\u001b[0m\u001b[0m\n\u001b[1;32m----> 2\u001b[1;33m     \u001b[0mg\u001b[0m \u001b[1;33m=\u001b[0m \u001b[0mfm\u001b[0m\u001b[1;33m.\u001b[0m\u001b[0mload\u001b[0m\u001b[1;33m(\u001b[0m\u001b[1;34m'charComic.gml'\u001b[0m\u001b[1;33m)\u001b[0m\u001b[1;33m\u001b[0m\u001b[1;33m\u001b[0m\u001b[0m\n\u001b[0m\u001b[0;32m      3\u001b[0m \u001b[1;33m\u001b[0m\u001b[0m\n\u001b[0;32m      4\u001b[0m     \u001b[1;31m# Remover todas as arestas com peso menor ou igual a 0.5.\u001b[0m\u001b[1;33m\u001b[0m\u001b[1;33m\u001b[0m\u001b[1;33m\u001b[0m\u001b[0m\n\u001b[0;32m      5\u001b[0m     \u001b[1;31m# Precisamos de dois loops, pois não é uma boa ideia\u001b[0m\u001b[1;33m\u001b[0m\u001b[1;33m\u001b[0m\u001b[1;33m\u001b[0m\u001b[0m\n",
      "\u001b[1;32m~\\Desktop\\Insper\\6Sem\\Redes\\RedesSociaisProjeto1\\freeman\\__init__.py\u001b[0m in \u001b[0;36mload\u001b[1;34m(path)\u001b[0m\n\u001b[0;32m     55\u001b[0m \u001b[1;33m\u001b[0m\u001b[0m\n\u001b[0;32m     56\u001b[0m \u001b[1;32mdef\u001b[0m \u001b[0mload\u001b[0m\u001b[1;33m(\u001b[0m\u001b[0mpath\u001b[0m\u001b[1;33m)\u001b[0m\u001b[1;33m:\u001b[0m\u001b[1;33m\u001b[0m\u001b[1;33m\u001b[0m\u001b[0m\n\u001b[1;32m---> 57\u001b[1;33m     \u001b[0mg\u001b[0m \u001b[1;33m=\u001b[0m \u001b[0mnx\u001b[0m\u001b[1;33m.\u001b[0m\u001b[0mread_gml\u001b[0m\u001b[1;33m(\u001b[0m\u001b[0mpath\u001b[0m\u001b[1;33m,\u001b[0m \u001b[1;34m'id'\u001b[0m\u001b[1;33m)\u001b[0m\u001b[1;33m\u001b[0m\u001b[1;33m\u001b[0m\u001b[0m\n\u001b[0m\u001b[0;32m     58\u001b[0m \u001b[1;33m\u001b[0m\u001b[0m\n\u001b[0;32m     59\u001b[0m     \u001b[0mkeys\u001b[0m \u001b[1;33m=\u001b[0m \u001b[0mlist\u001b[0m\u001b[1;33m(\u001b[0m\u001b[0mg\u001b[0m\u001b[1;33m.\u001b[0m\u001b[0mgraph\u001b[0m\u001b[1;33m)\u001b[0m\u001b[1;33m\u001b[0m\u001b[1;33m\u001b[0m\u001b[0m\n",
      "\u001b[1;32m<decorator-gen-810>\u001b[0m in \u001b[0;36mread_gml\u001b[1;34m(path, label, destringizer)\u001b[0m\n",
      "\u001b[1;32mc:\\users\\furyo\\appdata\\local\\programs\\python\\python38-32\\lib\\site-packages\\networkx\\utils\\decorators.py\u001b[0m in \u001b[0;36m_open_file\u001b[1;34m(func_to_be_decorated, *args, **kwargs)\u001b[0m\n\u001b[0;32m    237\u001b[0m         \u001b[1;31m# Finally, we call the original function, making sure to close the fobj\u001b[0m\u001b[1;33m\u001b[0m\u001b[1;33m\u001b[0m\u001b[1;33m\u001b[0m\u001b[0m\n\u001b[0;32m    238\u001b[0m         \u001b[1;32mtry\u001b[0m\u001b[1;33m:\u001b[0m\u001b[1;33m\u001b[0m\u001b[1;33m\u001b[0m\u001b[0m\n\u001b[1;32m--> 239\u001b[1;33m             \u001b[0mresult\u001b[0m \u001b[1;33m=\u001b[0m \u001b[0mfunc_to_be_decorated\u001b[0m\u001b[1;33m(\u001b[0m\u001b[1;33m*\u001b[0m\u001b[0mnew_args\u001b[0m\u001b[1;33m,\u001b[0m \u001b[1;33m**\u001b[0m\u001b[0mkwargs\u001b[0m\u001b[1;33m)\u001b[0m\u001b[1;33m\u001b[0m\u001b[1;33m\u001b[0m\u001b[0m\n\u001b[0m\u001b[0;32m    240\u001b[0m         \u001b[1;32mfinally\u001b[0m\u001b[1;33m:\u001b[0m\u001b[1;33m\u001b[0m\u001b[1;33m\u001b[0m\u001b[0m\n\u001b[0;32m    241\u001b[0m             \u001b[1;32mif\u001b[0m \u001b[0mclose_fobj\u001b[0m\u001b[1;33m:\u001b[0m\u001b[1;33m\u001b[0m\u001b[1;33m\u001b[0m\u001b[0m\n",
      "\u001b[1;32mc:\\users\\furyo\\appdata\\local\\programs\\python\\python38-32\\lib\\site-packages\\networkx\\readwrite\\gml.py\u001b[0m in \u001b[0;36mread_gml\u001b[1;34m(path, label, destringizer)\u001b[0m\n\u001b[0;32m    179\u001b[0m             \u001b[1;32myield\u001b[0m \u001b[0mline\u001b[0m\u001b[1;33m\u001b[0m\u001b[1;33m\u001b[0m\u001b[0m\n\u001b[0;32m    180\u001b[0m \u001b[1;33m\u001b[0m\u001b[0m\n\u001b[1;32m--> 181\u001b[1;33m     \u001b[0mG\u001b[0m \u001b[1;33m=\u001b[0m \u001b[0mparse_gml_lines\u001b[0m\u001b[1;33m(\u001b[0m\u001b[0mfilter_lines\u001b[0m\u001b[1;33m(\u001b[0m\u001b[0mpath\u001b[0m\u001b[1;33m)\u001b[0m\u001b[1;33m,\u001b[0m \u001b[0mlabel\u001b[0m\u001b[1;33m,\u001b[0m \u001b[0mdestringizer\u001b[0m\u001b[1;33m)\u001b[0m\u001b[1;33m\u001b[0m\u001b[1;33m\u001b[0m\u001b[0m\n\u001b[0m\u001b[0;32m    182\u001b[0m     \u001b[1;32mreturn\u001b[0m \u001b[0mG\u001b[0m\u001b[1;33m\u001b[0m\u001b[1;33m\u001b[0m\u001b[0m\n\u001b[0;32m    183\u001b[0m \u001b[1;33m\u001b[0m\u001b[0m\n",
      "\u001b[1;32mc:\\users\\furyo\\appdata\\local\\programs\\python\\python38-32\\lib\\site-packages\\networkx\\readwrite\\gml.py\u001b[0m in \u001b[0;36mparse_gml_lines\u001b[1;34m(lines, label, destringizer)\u001b[0m\n\u001b[0;32m    409\u001b[0m \u001b[1;33m\u001b[0m\u001b[0m\n\u001b[0;32m    410\u001b[0m     \u001b[0mtokens\u001b[0m \u001b[1;33m=\u001b[0m \u001b[0mtokenize\u001b[0m\u001b[1;33m(\u001b[0m\u001b[1;33m)\u001b[0m\u001b[1;33m\u001b[0m\u001b[1;33m\u001b[0m\u001b[0m\n\u001b[1;32m--> 411\u001b[1;33m     \u001b[0mgraph\u001b[0m \u001b[1;33m=\u001b[0m \u001b[0mparse_graph\u001b[0m\u001b[1;33m(\u001b[0m\u001b[1;33m)\u001b[0m\u001b[1;33m\u001b[0m\u001b[1;33m\u001b[0m\u001b[0m\n\u001b[0m\u001b[0;32m    412\u001b[0m \u001b[1;33m\u001b[0m\u001b[0m\n\u001b[0;32m    413\u001b[0m     \u001b[0mdirected\u001b[0m \u001b[1;33m=\u001b[0m \u001b[0mgraph\u001b[0m\u001b[1;33m.\u001b[0m\u001b[0mpop\u001b[0m\u001b[1;33m(\u001b[0m\u001b[1;34m\"directed\"\u001b[0m\u001b[1;33m,\u001b[0m \u001b[1;32mFalse\u001b[0m\u001b[1;33m)\u001b[0m\u001b[1;33m\u001b[0m\u001b[1;33m\u001b[0m\u001b[0m\n",
      "\u001b[1;32mc:\\users\\furyo\\appdata\\local\\programs\\python\\python38-32\\lib\\site-packages\\networkx\\readwrite\\gml.py\u001b[0m in \u001b[0;36mparse_graph\u001b[1;34m()\u001b[0m\n\u001b[0;32m    398\u001b[0m \u001b[1;33m\u001b[0m\u001b[0m\n\u001b[0;32m    399\u001b[0m     \u001b[1;32mdef\u001b[0m \u001b[0mparse_graph\u001b[0m\u001b[1;33m(\u001b[0m\u001b[1;33m)\u001b[0m\u001b[1;33m:\u001b[0m\u001b[1;33m\u001b[0m\u001b[1;33m\u001b[0m\u001b[0m\n\u001b[1;32m--> 400\u001b[1;33m         \u001b[0mcurr_token\u001b[0m\u001b[1;33m,\u001b[0m \u001b[0mdct\u001b[0m \u001b[1;33m=\u001b[0m \u001b[0mparse_kv\u001b[0m\u001b[1;33m(\u001b[0m\u001b[0mnext\u001b[0m\u001b[1;33m(\u001b[0m\u001b[0mtokens\u001b[0m\u001b[1;33m)\u001b[0m\u001b[1;33m)\u001b[0m\u001b[1;33m\u001b[0m\u001b[1;33m\u001b[0m\u001b[0m\n\u001b[0m\u001b[0;32m    401\u001b[0m         \u001b[1;32mif\u001b[0m \u001b[0mcurr_token\u001b[0m\u001b[1;33m.\u001b[0m\u001b[0mcategory\u001b[0m \u001b[1;32mis\u001b[0m \u001b[1;32mnot\u001b[0m \u001b[1;32mNone\u001b[0m\u001b[1;33m:\u001b[0m  \u001b[1;31m# EOF\u001b[0m\u001b[1;33m\u001b[0m\u001b[1;33m\u001b[0m\u001b[0m\n\u001b[0;32m    402\u001b[0m             \u001b[0munexpected\u001b[0m\u001b[1;33m(\u001b[0m\u001b[0mcurr_token\u001b[0m\u001b[1;33m,\u001b[0m \u001b[1;34m\"EOF\"\u001b[0m\u001b[1;33m)\u001b[0m\u001b[1;33m\u001b[0m\u001b[1;33m\u001b[0m\u001b[0m\n",
      "\u001b[1;32mc:\\users\\furyo\\appdata\\local\\programs\\python\\python38-32\\lib\\site-packages\\networkx\\readwrite\\gml.py\u001b[0m in \u001b[0;36mparse_kv\u001b[1;34m(curr_token)\u001b[0m\n\u001b[0;32m    353\u001b[0m                 \u001b[0mcurr_token\u001b[0m \u001b[1;33m=\u001b[0m \u001b[0mnext\u001b[0m\u001b[1;33m(\u001b[0m\u001b[0mtokens\u001b[0m\u001b[1;33m)\u001b[0m\u001b[1;33m\u001b[0m\u001b[1;33m\u001b[0m\u001b[0m\n\u001b[0;32m    354\u001b[0m             \u001b[1;32melif\u001b[0m \u001b[0mcategory\u001b[0m \u001b[1;33m==\u001b[0m \u001b[0mPattern\u001b[0m\u001b[1;33m.\u001b[0m\u001b[0mDICT_START\u001b[0m\u001b[1;33m:\u001b[0m\u001b[1;33m\u001b[0m\u001b[1;33m\u001b[0m\u001b[0m\n\u001b[1;32m--> 355\u001b[1;33m                 \u001b[0mcurr_token\u001b[0m\u001b[1;33m,\u001b[0m \u001b[0mvalue\u001b[0m \u001b[1;33m=\u001b[0m \u001b[0mparse_dict\u001b[0m\u001b[1;33m(\u001b[0m\u001b[0mcurr_token\u001b[0m\u001b[1;33m)\u001b[0m\u001b[1;33m\u001b[0m\u001b[1;33m\u001b[0m\u001b[0m\n\u001b[0m\u001b[0;32m    356\u001b[0m             \u001b[1;32melse\u001b[0m\u001b[1;33m:\u001b[0m\u001b[1;33m\u001b[0m\u001b[1;33m\u001b[0m\u001b[0m\n\u001b[0;32m    357\u001b[0m                 \u001b[1;31m# Allow for string convertible id and label values\u001b[0m\u001b[1;33m\u001b[0m\u001b[1;33m\u001b[0m\u001b[1;33m\u001b[0m\u001b[0m\n",
      "\u001b[1;32mc:\\users\\furyo\\appdata\\local\\programs\\python\\python38-32\\lib\\site-packages\\networkx\\readwrite\\gml.py\u001b[0m in \u001b[0;36mparse_dict\u001b[1;34m(curr_token)\u001b[0m\n\u001b[0;32m    392\u001b[0m         \u001b[0mcurr_token\u001b[0m \u001b[1;33m=\u001b[0m \u001b[0mconsume\u001b[0m\u001b[1;33m(\u001b[0m\u001b[0mcurr_token\u001b[0m\u001b[1;33m,\u001b[0m \u001b[0mPattern\u001b[0m\u001b[1;33m.\u001b[0m\u001b[0mDICT_START\u001b[0m\u001b[1;33m,\u001b[0m \u001b[1;34m\"'['\"\u001b[0m\u001b[1;33m)\u001b[0m\u001b[1;33m\u001b[0m\u001b[1;33m\u001b[0m\u001b[0m\n\u001b[0;32m    393\u001b[0m         \u001b[1;31m# dict contents\u001b[0m\u001b[1;33m\u001b[0m\u001b[1;33m\u001b[0m\u001b[1;33m\u001b[0m\u001b[0m\n\u001b[1;32m--> 394\u001b[1;33m         \u001b[0mcurr_token\u001b[0m\u001b[1;33m,\u001b[0m \u001b[0mdct\u001b[0m \u001b[1;33m=\u001b[0m \u001b[0mparse_kv\u001b[0m\u001b[1;33m(\u001b[0m\u001b[0mcurr_token\u001b[0m\u001b[1;33m)\u001b[0m\u001b[1;33m\u001b[0m\u001b[1;33m\u001b[0m\u001b[0m\n\u001b[0m\u001b[0;32m    395\u001b[0m         \u001b[1;31m# dict end\u001b[0m\u001b[1;33m\u001b[0m\u001b[1;33m\u001b[0m\u001b[1;33m\u001b[0m\u001b[0m\n\u001b[0;32m    396\u001b[0m         \u001b[0mcurr_token\u001b[0m \u001b[1;33m=\u001b[0m \u001b[0mconsume\u001b[0m\u001b[1;33m(\u001b[0m\u001b[0mcurr_token\u001b[0m\u001b[1;33m,\u001b[0m \u001b[0mPattern\u001b[0m\u001b[1;33m.\u001b[0m\u001b[0mDICT_END\u001b[0m\u001b[1;33m,\u001b[0m \u001b[1;34m\"']'\"\u001b[0m\u001b[1;33m)\u001b[0m\u001b[1;33m\u001b[0m\u001b[1;33m\u001b[0m\u001b[0m\n",
      "\u001b[1;32mc:\\users\\furyo\\appdata\\local\\programs\\python\\python38-32\\lib\\site-packages\\networkx\\readwrite\\gml.py\u001b[0m in \u001b[0;36mparse_kv\u001b[1;34m(curr_token)\u001b[0m\n\u001b[0;32m    353\u001b[0m                 \u001b[0mcurr_token\u001b[0m \u001b[1;33m=\u001b[0m \u001b[0mnext\u001b[0m\u001b[1;33m(\u001b[0m\u001b[0mtokens\u001b[0m\u001b[1;33m)\u001b[0m\u001b[1;33m\u001b[0m\u001b[1;33m\u001b[0m\u001b[0m\n\u001b[0;32m    354\u001b[0m             \u001b[1;32melif\u001b[0m \u001b[0mcategory\u001b[0m \u001b[1;33m==\u001b[0m \u001b[0mPattern\u001b[0m\u001b[1;33m.\u001b[0m\u001b[0mDICT_START\u001b[0m\u001b[1;33m:\u001b[0m\u001b[1;33m\u001b[0m\u001b[1;33m\u001b[0m\u001b[0m\n\u001b[1;32m--> 355\u001b[1;33m                 \u001b[0mcurr_token\u001b[0m\u001b[1;33m,\u001b[0m \u001b[0mvalue\u001b[0m \u001b[1;33m=\u001b[0m \u001b[0mparse_dict\u001b[0m\u001b[1;33m(\u001b[0m\u001b[0mcurr_token\u001b[0m\u001b[1;33m)\u001b[0m\u001b[1;33m\u001b[0m\u001b[1;33m\u001b[0m\u001b[0m\n\u001b[0m\u001b[0;32m    356\u001b[0m             \u001b[1;32melse\u001b[0m\u001b[1;33m:\u001b[0m\u001b[1;33m\u001b[0m\u001b[1;33m\u001b[0m\u001b[0m\n\u001b[0;32m    357\u001b[0m                 \u001b[1;31m# Allow for string convertible id and label values\u001b[0m\u001b[1;33m\u001b[0m\u001b[1;33m\u001b[0m\u001b[1;33m\u001b[0m\u001b[0m\n",
      "\u001b[1;32mc:\\users\\furyo\\appdata\\local\\programs\\python\\python38-32\\lib\\site-packages\\networkx\\readwrite\\gml.py\u001b[0m in \u001b[0;36mparse_dict\u001b[1;34m(curr_token)\u001b[0m\n\u001b[0;32m    392\u001b[0m         \u001b[0mcurr_token\u001b[0m \u001b[1;33m=\u001b[0m \u001b[0mconsume\u001b[0m\u001b[1;33m(\u001b[0m\u001b[0mcurr_token\u001b[0m\u001b[1;33m,\u001b[0m \u001b[0mPattern\u001b[0m\u001b[1;33m.\u001b[0m\u001b[0mDICT_START\u001b[0m\u001b[1;33m,\u001b[0m \u001b[1;34m\"'['\"\u001b[0m\u001b[1;33m)\u001b[0m\u001b[1;33m\u001b[0m\u001b[1;33m\u001b[0m\u001b[0m\n\u001b[0;32m    393\u001b[0m         \u001b[1;31m# dict contents\u001b[0m\u001b[1;33m\u001b[0m\u001b[1;33m\u001b[0m\u001b[1;33m\u001b[0m\u001b[0m\n\u001b[1;32m--> 394\u001b[1;33m         \u001b[0mcurr_token\u001b[0m\u001b[1;33m,\u001b[0m \u001b[0mdct\u001b[0m \u001b[1;33m=\u001b[0m \u001b[0mparse_kv\u001b[0m\u001b[1;33m(\u001b[0m\u001b[0mcurr_token\u001b[0m\u001b[1;33m)\u001b[0m\u001b[1;33m\u001b[0m\u001b[1;33m\u001b[0m\u001b[0m\n\u001b[0m\u001b[0;32m    395\u001b[0m         \u001b[1;31m# dict end\u001b[0m\u001b[1;33m\u001b[0m\u001b[1;33m\u001b[0m\u001b[1;33m\u001b[0m\u001b[0m\n\u001b[0;32m    396\u001b[0m         \u001b[0mcurr_token\u001b[0m \u001b[1;33m=\u001b[0m \u001b[0mconsume\u001b[0m\u001b[1;33m(\u001b[0m\u001b[0mcurr_token\u001b[0m\u001b[1;33m,\u001b[0m \u001b[0mPattern\u001b[0m\u001b[1;33m.\u001b[0m\u001b[0mDICT_END\u001b[0m\u001b[1;33m,\u001b[0m \u001b[1;34m\"']'\"\u001b[0m\u001b[1;33m)\u001b[0m\u001b[1;33m\u001b[0m\u001b[1;33m\u001b[0m\u001b[0m\n",
      "\u001b[1;32mc:\\users\\furyo\\appdata\\local\\programs\\python\\python38-32\\lib\\site-packages\\networkx\\readwrite\\gml.py\u001b[0m in \u001b[0;36mparse_kv\u001b[1;34m(curr_token)\u001b[0m\n\u001b[0;32m    373\u001b[0m                         \u001b[0munexpected\u001b[0m\u001b[1;33m(\u001b[0m\u001b[0mcurr_token\u001b[0m\u001b[1;33m,\u001b[0m \u001b[0mmsg\u001b[0m\u001b[1;33m)\u001b[0m\u001b[1;33m\u001b[0m\u001b[1;33m\u001b[0m\u001b[0m\n\u001b[0;32m    374\u001b[0m                 \u001b[1;32melse\u001b[0m\u001b[1;33m:\u001b[0m  \u001b[1;31m# Otherwise error out\u001b[0m\u001b[1;33m\u001b[0m\u001b[1;33m\u001b[0m\u001b[0m\n\u001b[1;32m--> 375\u001b[1;33m                     \u001b[0munexpected\u001b[0m\u001b[1;33m(\u001b[0m\u001b[0mcurr_token\u001b[0m\u001b[1;33m,\u001b[0m \u001b[1;34m\"an int, float, string or '['\"\u001b[0m\u001b[1;33m)\u001b[0m\u001b[1;33m\u001b[0m\u001b[1;33m\u001b[0m\u001b[0m\n\u001b[0m\u001b[0;32m    376\u001b[0m             \u001b[0mdct\u001b[0m\u001b[1;33m[\u001b[0m\u001b[0mkey\u001b[0m\u001b[1;33m]\u001b[0m\u001b[1;33m.\u001b[0m\u001b[0mappend\u001b[0m\u001b[1;33m(\u001b[0m\u001b[0mvalue\u001b[0m\u001b[1;33m)\u001b[0m\u001b[1;33m\u001b[0m\u001b[1;33m\u001b[0m\u001b[0m\n\u001b[0;32m    377\u001b[0m \u001b[1;33m\u001b[0m\u001b[0m\n",
      "\u001b[1;32mc:\\users\\furyo\\appdata\\local\\programs\\python\\python38-32\\lib\\site-packages\\networkx\\readwrite\\gml.py\u001b[0m in \u001b[0;36munexpected\u001b[1;34m(curr_token, expected)\u001b[0m\n\u001b[0;32m    328\u001b[0m         \u001b[0mcategory\u001b[0m\u001b[1;33m,\u001b[0m \u001b[0mvalue\u001b[0m\u001b[1;33m,\u001b[0m \u001b[0mlineno\u001b[0m\u001b[1;33m,\u001b[0m \u001b[0mpos\u001b[0m \u001b[1;33m=\u001b[0m \u001b[0mcurr_token\u001b[0m\u001b[1;33m\u001b[0m\u001b[1;33m\u001b[0m\u001b[0m\n\u001b[0;32m    329\u001b[0m         \u001b[0mvalue\u001b[0m \u001b[1;33m=\u001b[0m \u001b[0mrepr\u001b[0m\u001b[1;33m(\u001b[0m\u001b[0mvalue\u001b[0m\u001b[1;33m)\u001b[0m \u001b[1;32mif\u001b[0m \u001b[0mvalue\u001b[0m \u001b[1;32mis\u001b[0m \u001b[1;32mnot\u001b[0m \u001b[1;32mNone\u001b[0m \u001b[1;32melse\u001b[0m \u001b[1;34m\"EOF\"\u001b[0m\u001b[1;33m\u001b[0m\u001b[1;33m\u001b[0m\u001b[0m\n\u001b[1;32m--> 330\u001b[1;33m         \u001b[1;32mraise\u001b[0m \u001b[0mNetworkXError\u001b[0m\u001b[1;33m(\u001b[0m\u001b[1;34mf\"expected {expected}, found {value} at ({lineno}, {pos})\"\u001b[0m\u001b[1;33m)\u001b[0m\u001b[1;33m\u001b[0m\u001b[1;33m\u001b[0m\u001b[0m\n\u001b[0m\u001b[0;32m    331\u001b[0m \u001b[1;33m\u001b[0m\u001b[0m\n\u001b[0;32m    332\u001b[0m     \u001b[1;32mdef\u001b[0m \u001b[0mconsume\u001b[0m\u001b[1;33m(\u001b[0m\u001b[0mcurr_token\u001b[0m\u001b[1;33m,\u001b[0m \u001b[0mcategory\u001b[0m\u001b[1;33m,\u001b[0m \u001b[0mexpected\u001b[0m\u001b[1;33m)\u001b[0m\u001b[1;33m:\u001b[0m\u001b[1;33m\u001b[0m\u001b[1;33m\u001b[0m\u001b[0m\n",
      "\u001b[1;31mNetworkXError\u001b[0m: expected an int, float, string or '[', found 'BATTLE' at (8420, 52)"
     ]
    }
   ],
   "source": [
    "G = load()"
   ]
  },
  {
   "cell_type": "code",
   "execution_count": null,
   "metadata": {},
   "outputs": [],
   "source": [
    "g.draw()"
   ]
  },
  {
   "cell_type": "markdown",
   "metadata": {},
   "source": [
    "<h2>Formulas uteis (Aula 4)</h2>"
   ]
  },
  {
   "cell_type": "code",
   "execution_count": null,
   "metadata": {},
   "outputs": [],
   "source": [
    "from math import log\n",
    "\n",
    "def proportion(g, n, m):\n",
    "    return 1 / g.degree(n)\n",
    "\n",
    "def local_effsize(g, n, m):\n",
    "    s = 1\n",
    "    for k in g.neighbors(n):\n",
    "        if g.has_edge(k, m):\n",
    "            s -= proportion(g, n, k)\n",
    "    return s\n",
    "\n",
    "def effsize(g, n):\n",
    "    s = 0\n",
    "    for m in g.neighbors(n):\n",
    "        s += local_effsize(g, n, m)\n",
    "    return s\n",
    "\n",
    "def local_constraint(g, n, m):\n",
    "    s = proportion(g, n, m)\n",
    "    for k in g.neighbors(n):\n",
    "        if g.has_edge(k, m):\n",
    "            s += proportion(g, n, k) * proportion(g, k, m)\n",
    "    return s**2\n",
    "\n",
    "def constraint(g, n):\n",
    "    if g.degree(n) == 0:\n",
    "        return 2\n",
    "    s = 0\n",
    "    for m in g.neighbors(n):\n",
    "        s += local_constraint(g, n, m)\n",
    "    return s\n",
    "\n",
    "def hierarchy(g, n):\n",
    "    c = constraint(g, n)\n",
    "    N = g.number_of_nodes()\n",
    "    s = 0\n",
    "    for m in g.neighbors(n):\n",
    "        f = local_constraint(g, n, m) / (c / N)\n",
    "        s += f * log(f)\n",
    "    return s / (N * log(N))"
   ]
  },
  {
   "cell_type": "code",
   "execution_count": null,
   "metadata": {},
   "outputs": [],
   "source": [
    "print('calculando centralidade degree...')\n",
    "dc = nx.degree_centrality(g)\n",
    "\n",
    "print('calculando centralidade betweenness...')\n",
    "bc = nx.betweenness_centrality(g)\n",
    "\n",
    "print('calculando centralidade closeness...')\n",
    "cc = nx.closeness_centrality(g)\n",
    "\n",
    "print('calculando centralidade eigenvector...')\n",
    "ec = nx.eigenvector_centrality(g)"
   ]
  },
  {
   "cell_type": "markdown",
   "metadata": {},
   "source": [
    "Calculando metricas novas"
   ]
  },
  {
   "cell_type": "code",
   "execution_count": null,
   "metadata": {},
   "outputs": [],
   "source": [
    "print('calculando efficient size...')\n",
    "eff = {}\n",
    "for n in g.nodes:\n",
    "    eff[n] = effsize(g, n)\n",
    "\n",
    "print('calculando constraint...')\n",
    "con = {}\n",
    "for n in g.nodes:\n",
    "    con[n] = constraint(g, n)\n",
    "\n",
    "print('calculando hierarchy...')\n",
    "hie = {}\n",
    "for n in g.nodes:\n",
    "    hie[n] = hierarchy(g, n)"
   ]
  },
  {
   "cell_type": "markdown",
   "metadata": {},
   "source": [
    "Armazena dados num DataFrame"
   ]
  },
  {
   "cell_type": "code",
   "execution_count": null,
   "metadata": {},
   "outputs": [],
   "source": [
    "data = pd.DataFrame({\n",
    "    'nodes': [n for n in g.nodes],\n",
    "    'substantivo': [g.nodes[n]['substantivo'] for n in g.nodes],\n",
    "    'degree centrality': [dc[n] for n in g.nodes],\n",
    "    'betweenness centrality': [bc[n] for n in g.nodes],\n",
    "    'closeness centrality': [cc[n] for n in g.nodes],\n",
    "    'eigenvector centrality': [ec[n] for n in g.nodes],\n",
    "    'efficient size': [eff[n] for n in g.nodes],\n",
    "    'constraint': [con[n] for n in g.nodes],\n",
    "    'hierarchy': [hie[n] for n in g.nodes],\n",
    "})\n",
    "\n",
    "fm.resize_all_plots(800, 1000)"
   ]
  },
  {
   "cell_type": "code",
   "execution_count": null,
   "metadata": {},
   "outputs": [],
   "source": [
    "sns.scatterplot(data=data, x='constraint', y='betweenness centrality');"
   ]
  },
  {
   "cell_type": "code",
   "execution_count": null,
   "metadata": {},
   "outputs": [],
   "source": [
    "sns.scatterplot(data=data, x='degree centrality', y='efficient size');"
   ]
  },
  {
   "cell_type": "code",
   "execution_count": null,
   "metadata": {},
   "outputs": [],
   "source": [
    "sns.boxplot(data=data, x='betweenness centrality', y='name');"
   ]
  },
  {
   "cell_type": "code",
   "execution_count": null,
   "metadata": {},
   "outputs": [],
   "source": []
  },
  {
   "cell_type": "code",
   "execution_count": null,
   "metadata": {},
   "outputs": [],
   "source": []
  },
  {
   "cell_type": "code",
   "execution_count": null,
   "metadata": {},
   "outputs": [],
   "source": []
  }
 ],
 "metadata": {
  "kernelspec": {
   "display_name": "Python 3",
   "language": "python",
   "name": "python3"
  },
  "language_info": {
   "codemirror_mode": {
    "name": "ipython",
    "version": 3
   },
   "file_extension": ".py",
   "mimetype": "text/x-python",
   "name": "python",
   "nbconvert_exporter": "python",
   "pygments_lexer": "ipython3",
   "version": "3.8.3"
  }
 },
 "nbformat": 4,
 "nbformat_minor": 4
}
